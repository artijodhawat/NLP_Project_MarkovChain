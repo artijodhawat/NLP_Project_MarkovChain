{
 "cells": [
  {
   "cell_type": "code",
   "execution_count": 1,
   "id": "83827d93-7b73-461f-b2b8-da849b83d5d0",
   "metadata": {},
   "outputs": [],
   "source": [
    "import numpy as np\n",
    "import pandas as pd\n",
    "import os\n",
    "import re\n",
    "import string\n",
    "from nltk.tokenize import word_tokenize\n",
    "from nltk.corpus import stopwords\n",
    "import random"
   ]
  },
  {
   "cell_type": "code",
   "execution_count": null,
   "id": "e985149e-bffb-4121-9add-661343f9b523",
   "metadata": {},
   "outputs": [],
   "source": [
    "# Reading every Sherlock Holmes adventure!"
   ]
  },
  {
   "cell_type": "code",
   "execution_count": 58,
   "id": "9250322f-73ed-4ff2-8076-7ba0645ff27d",
   "metadata": {},
   "outputs": [
    {
     "name": "stdout",
     "output_type": "stream",
     "text": [
      "Number of lines = 215021\n"
     ]
    }
   ],
   "source": [
    "import os  # Import the os module to work with file paths\n",
    "\n",
    "# Directory path where Sherlock Holmes stories are stored\n",
    "story_path = \"/home/arti/Downloads/archive/sherlock/sherlock\"\n",
    "\n",
    "# Function to read all Sherlock Holmes stories from the given directory\n",
    "def read_all_stories(story_path):\n",
    "    txt = []  # Initialize an empty list to store lines from the stories\n",
    "    try:\n",
    "        # Walk through the directory and its subdirectories\n",
    "        for _, _, files in os.walk(story_path):\n",
    "            for file in files:\n",
    "                # Open each file in the directory\n",
    "                with open(os.path.join(story_path, file), 'r') as f:\n",
    "                    # Read each line in the file\n",
    "                    for line in f:\n",
    "                        line = line.strip()  # Remove leading and trailing whitespace\n",
    "                        # Stop reading if the line is \"----------\"\n",
    "                        if line == '----------':\n",
    "                            break\n",
    "                        # Add non-empty lines to the list\n",
    "                        if line != '':\n",
    "                            txt.append(line)\n",
    "    except Exception as e:\n",
    "        print(\"Error:\", e)  # Print any errors that occur during file reading\n",
    "    return txt  # Return the list of lines containing all the stories\n",
    "\n",
    "# Call the function to read all stories and store them in the 'stories' variable\n",
    "stories = read_all_stories(story_path)\n",
    "#print(stories)\n",
    "# Print the total number of lines collected\n",
    "print(\"Number of lines =\", len(stories))\n"
   ]
  },
  {
   "cell_type": "code",
   "execution_count": null,
   "id": "00fedec3-d3b4-4157-9996-3235a64da137",
   "metadata": {},
   "outputs": [],
   "source": [
    "#Cleaning the text"
   ]
  },
  {
   "cell_type": "code",
   "execution_count": 57,
   "id": "0fa5c753-73e9-4c2e-b471-692270e1f108",
   "metadata": {},
   "outputs": [
    {
     "name": "stdout",
     "output_type": "stream",
     "text": [
      "Number of words = 2332247\n"
     ]
    }
   ],
   "source": [
    "import re  # Import the regular expression module\n",
    "from nltk.tokenize import word_tokenize  # Import word_tokenize from NLTK\n",
    "\n",
    "# Function to clean text data\n",
    "def clean_txt(txt):\n",
    "    cleaned_txt = []  # Initialize an empty list to store cleaned words\n",
    "    for line in txt:\n",
    "        line = line.lower()  # Convert the line to lowercase\n",
    "        line = re.sub(r\"[,.\\\"\\'!@#$%^&*(){}?/;`~:<>+=-\\\\]\", \"\", line)  # Remove punctuation\n",
    "        tokens = word_tokenize(line)  # Tokenize the line into words\n",
    "        words = [word for word in tokens if word.isalpha()]  # Remove non-alphabetic tokens\n",
    "        cleaned_txt += words  # Add the cleaned words to the list\n",
    "    return cleaned_txt  # Return the list of cleaned words\n",
    "\n",
    "# Clean the stories\n",
    "cleaned_stories = clean_txt(stories)\n",
    "\n",
    "# Print the total number of words in the cleaned stories\n",
    "print(\"Number of words =\", len(cleaned_stories))\n",
    "#print(cleaned_stories)"
   ]
  },
  {
   "cell_type": "code",
   "execution_count": null,
   "id": "1744560b-a1e1-4450-812e-d539b6af8fcb",
   "metadata": {},
   "outputs": [],
   "source": [
    "## Creating the Markov Model¶"
   ]
  },
  {
   "cell_type": "code",
   "execution_count": 59,
   "id": "42c35577-63d5-4642-9a30-c3e0b6ca9df4",
   "metadata": {},
   "outputs": [],
   "source": [
    "def make_markov_model(cleaned_stories, n_gram=2):\n",
    "    # Initialize an empty dictionary to store the Markov model\n",
    "    markov_model = {}\n",
    "    \n",
    "    # Iterate over the cleaned words, excluding the last n_gram + 1 words\n",
    "    for i in range(len(cleaned_stories) - n_gram):\n",
    "        # Initialize empty strings for the current state and next state\n",
    "        curr_state, next_state = \"\", \"\"\n",
    "        \n",
    "        # Build the current state and next state by concatenating words\n",
    "        for j in range(n_gram):\n",
    "            curr_state += cleaned_stories[i + j] + \" \"\n",
    "            next_state += cleaned_stories[i + j + 1] + \" \"\n",
    "        \n",
    "        # Remove trailing whitespace\n",
    "        curr_state = curr_state.strip()\n",
    "        next_state = next_state.strip()\n",
    "        \n",
    "        # If the current state is not in the Markov model, add it\n",
    "        if curr_state not in markov_model:\n",
    "            markov_model[curr_state] = {}\n",
    "            markov_model[curr_state][next_state] = 1\n",
    "        else:\n",
    "            # If the current state exists, update transition counts\n",
    "            if next_state in markov_model[curr_state]:\n",
    "                markov_model[curr_state][next_state] += 1\n",
    "            else:\n",
    "                markov_model[curr_state][next_state] = 1\n",
    "    \n",
    "    # Calculate transition probabilities\n",
    "    for curr_state, transition in markov_model.items():\n",
    "        total = sum(transition.values())\n",
    "        for state, count in transition.items():\n",
    "            markov_model[curr_state][state] = count / total\n",
    "        \n",
    "    return markov_model\n"
   ]
  },
  {
   "cell_type": "code",
   "execution_count": 60,
   "id": "26a6eb74-9681-461b-bae5-ab7765eb089a",
   "metadata": {},
   "outputs": [],
   "source": [
    "markov_model = make_markov_model(cleaned_stories)"
   ]
  },
  {
   "cell_type": "code",
   "execution_count": 61,
   "id": "4866f031-25c2-4a01-83c2-5d0dcddebcdc",
   "metadata": {},
   "outputs": [
    {
     "name": "stdout",
     "output_type": "stream",
     "text": [
      "number of states =  208716\n"
     ]
    }
   ],
   "source": [
    "print(\"number of states = \", len(markov_model.keys()))"
   ]
  },
  {
   "cell_type": "code",
   "execution_count": 62,
   "id": "86d2e503-e60d-429b-8cc8-4930625e6406",
   "metadata": {},
   "outputs": [
    {
     "name": "stdout",
     "output_type": "stream",
     "text": [
      "All possible transitions from 'the game' state: \n",
      "\n",
      "{'game would': 0.036036036036036036, 'game is': 0.1891891891891892, 'game was': 0.21621621621621623, 'game in': 0.07207207207207207, 'game the': 0.036036036036036036, 'game for': 0.0990990990990991, 'game may': 0.02702702702702703, 'game now': 0.05405405405405406, 'game my': 0.05405405405405406, 'game at': 0.02702702702702703, 'game mr': 0.02702702702702703, 'game ay': 0.02702702702702703, 'game fairly': 0.02702702702702703, 'game worth': 0.02702702702702703, 'game you': 0.02702702702702703, 'game i': 0.02702702702702703, 'game your': 0.02702702702702703}\n"
     ]
    }
   ],
   "source": [
    "print(\"All possible transitions from 'the game' state: \\n\")\n",
    "print(markov_model['the game'])\n"
   ]
  },
  {
   "cell_type": "code",
   "execution_count": null,
   "id": "4317e023-d497-420c-b747-bbe3edab96f4",
   "metadata": {},
   "outputs": [],
   "source": []
  },
  {
   "cell_type": "code",
   "execution_count": 64,
   "id": "d1860cea-906f-425d-9a49-c6d80a5ec976",
   "metadata": {},
   "outputs": [],
   "source": [
    "def generate_story(markov_model, limit=100, start='my god'):\n",
    "    n = 0\n",
    "    curr_state = start\n",
    "    next_state = None\n",
    "    story = \"\"\n",
    "    story+=curr_state+\" \"\n",
    "    while n<limit:\n",
    "        next_state = random.choices(list(markov_model[curr_state].keys()),\n",
    "                                    list(markov_model[curr_state].values()))\n",
    "        \n",
    "        curr_state = next_state[0]\n",
    "        story+=curr_state+\" \"\n",
    "        n+=1\n",
    "    return story\n"
   ]
  },
  {
   "cell_type": "code",
   "execution_count": 71,
   "id": "0e39d62e-bc80-4f83-841e-9d282c636372",
   "metadata": {},
   "outputs": [
    {
     "name": "stdout",
     "output_type": "stream",
     "text": [
      "0.  dear holmes holmes my my word word of of what what you you are are a a criminal \n",
      "1.  dear holmes holmes what what is is the the slackest slackest time time in in the the mud \n",
      "2.  dear holmes holmes you you have have really really some some huge huge bat bat glued glued against \n",
      "3.  dear holmes holmes if if your your conscience conscience will will be be arrested arrested and and tried \n",
      "4.  dear holmes holmes you you had had my my attention attention was was given given to to man \n",
      "5.  dear holmes holmes if if they they were were allowed allowed to to go go about about alone \n",
      "6.  dear holmes holmes said said i i surely surely you you dont dont associate associate his his past \n",
      "7.  dear holmes holmes that that i i could could not not sleep sleep for for excitement excitement and \n",
      "8.  dear holmes holmes i i really really have have done done me me the the whole whole matter \n",
      "9.  dear holmes holmes i i have have heard heard of of any any kind kind will will receive \n"
     ]
    }
   ],
   "source": [
    "for i in range(10):\n",
    "    print(str(i)+\". \", generate_story(markov_model, start=\"dear holmes\", limit=8))\n"
   ]
  },
  {
   "cell_type": "code",
   "execution_count": 73,
   "id": "b0c0d765-9225-40fb-8ae9-3e8e9746e841",
   "metadata": {},
   "outputs": [
    {
     "name": "stdout",
     "output_type": "stream",
     "text": [
      "0.  dear wife wife knew knew that that the the lady lady to to london london he he would \n",
      "1.  dear wife wife died died young young she she is is dead dead he he could could no \n",
      "2.  dear wife wife died died i i felt felt that that there there is is something something on \n",
      "3.  dear wife wife knew knew no no sir sir he he does does it it once once more \n",
      "4.  dear wife wife knew knew that that so so far far we we are are egria egria it \n",
      "5.  dear wife wife died died i i saved saved her her no no doubt doubt its its value \n",
      "6.  dear wife wife died died i i saved saved them them trouble trouble said said holmes holmes carelessly \n",
      "7.  dear wife wife died died i i felt felt the the room room below below it it was \n",
      "8.  dear wife wife knew knew that that she she heard heard him him say say and and do \n",
      "9.  dear wife wife knew knew no no doubt doubt said said i i oh oh i i am \n",
      "10.  dear wife wife knew knew that that it it was was the the fair fair sex sex is \n",
      "11.  dear wife wife knew knew that that night night not not only only the the evidence evidence against \n",
      "12.  dear wife wife died died young young is is the the window window and and i i fancy \n",
      "13.  dear wife wife knew knew no no sir sir there there must must be be correct correct said \n",
      "14.  dear wife wife knew knew no no doubt doubt that that he he was was a a relief \n",
      "15.  dear wife wife died died i i saved saved her her from from a a bank bank of \n",
      "16.  dear wife wife died died young young she she is is very very excellent excellent and and a \n",
      "17.  dear wife wife died died i i saved saved them them trouble trouble said said holmes holmes peering \n",
      "18.  dear wife wife knew knew that that his his more more cultivated cultivated neighbours neighbours he he soon \n",
      "19.  dear wife wife died died i i saved saved her her from from her her hand hand evil \n"
     ]
    }
   ],
   "source": [
    "for i in range(20):\n",
    "    print(str(i)+\". \", generate_story(markov_model, start=\"dear wife\", limit=8))\n"
   ]
  },
  {
   "cell_type": "code",
   "execution_count": 74,
   "id": "a89ce73f-32f3-4239-915c-3e3ecf403897",
   "metadata": {},
   "outputs": [
    {
     "name": "stdout",
     "output_type": "stream",
     "text": [
      "0.  i would would do do nothing nothing and and no no man man upon upon the the shelf \n",
      "1.  i would would go go round round the the table table in in front front of of him \n",
      "2.  i would would send send you you word word your your inquiries inquiries have have run run a \n",
      "3.  i would would swear swear to to you you much much his his only only hope hope of \n",
      "4.  i would would there there be be in in time time for for us us to to something \n",
      "5.  i would would rather rather have have tobys tobys help help than than that that of of her \n",
      "6.  i would would test test it it to to your your friend friend mr mr barker barker arrived \n",
      "7.  i would would have have come come as as to to any any very very pressing pressing which \n",
      "8.  i would would only only change change was was made made by by the the way way excellent \n",
      "9.  i would would ask ask me me to to leave leave him him harmless harmless for for the \n"
     ]
    }
   ],
   "source": [
    "for i in range(10):\n",
    "    print(str(i)+\". \", generate_story(markov_model, start=\"i would\", limit=8))\n"
   ]
  },
  {
   "cell_type": "code",
   "execution_count": 77,
   "id": "adf5b199-113c-49ea-a582-5458fc069797",
   "metadata": {},
   "outputs": [
    {
     "name": "stdout",
     "output_type": "stream",
     "text": [
      "the case case before before you you laid laid him him down down to to me me on on your your side side will will not not figure figure in in a a pitiable pitiable state state of of mind mind keen keen in in his his eyes eyes fixed fixed on on my my threshold threshold his his appearance appearance marred marred only only by by the the coroners coroners inquiry inquiry is is still still within within then then i i take take it it as as a a workman workman looking looking for for a a round round table \n"
     ]
    }
   ],
   "source": [
    "print(generate_story(markov_model, start=\"the case\", limit=50))\n"
   ]
  },
  {
   "cell_type": "code",
   "execution_count": null,
   "id": "4b467cdb-9f8d-4e05-8d44-da792e1aa2d9",
   "metadata": {},
   "outputs": [],
   "source": []
  },
  {
   "cell_type": "code",
   "execution_count": null,
   "id": "51e0d1f9-0193-4457-b6d2-a3d91c5b7662",
   "metadata": {},
   "outputs": [],
   "source": []
  },
  {
   "cell_type": "code",
   "execution_count": null,
   "id": "82e0ff52-dbec-401a-a774-589911687361",
   "metadata": {},
   "outputs": [],
   "source": []
  },
  {
   "cell_type": "code",
   "execution_count": null,
   "id": "e75f14cd-eefe-4769-a16e-6e5dceba4896",
   "metadata": {},
   "outputs": [],
   "source": []
  }
 ],
 "metadata": {
  "kernelspec": {
   "display_name": "Python 3 (ipykernel)",
   "language": "python",
   "name": "python3"
  },
  "language_info": {
   "codemirror_mode": {
    "name": "ipython",
    "version": 3
   },
   "file_extension": ".py",
   "mimetype": "text/x-python",
   "name": "python",
   "nbconvert_exporter": "python",
   "pygments_lexer": "ipython3",
   "version": "3.11.7"
  }
 },
 "nbformat": 4,
 "nbformat_minor": 5
}
